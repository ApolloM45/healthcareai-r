{
 "cells": [
  {
   "cell_type": "markdown",
   "metadata": {},
   "source": [
    "In this example (example #1) we compare two predictive models based on our data.  By default we will use our prepackaged example, which predicts 30 day hospital readmissions based on diabetes related health data."
   ]
  },
  {
   "cell_type": "markdown",
   "metadata": {},
   "source": [
    "First, load in the package. BTW, type ?HCRTools (any time after loading the package) for the docs!"
   ]
  },
  {
   "cell_type": "code",
   "execution_count": 61,
   "metadata": {
    "collapsed": false
   },
   "outputs": [],
   "source": [
    "library(HCRTools)"
   ]
  },
  {
   "cell_type": "markdown",
   "metadata": {},
   "source": [
    "Load data from SQL Server..."
   ]
  },
  {
   "cell_type": "code",
   "execution_count": 64,
   "metadata": {
    "collapsed": false
   },
   "outputs": [],
   "source": [
    "#Set up connection by specifying your server\n",
    "connection.string = 'driver={SQL Server};\n",
    "                     server=localhost;\n",
    "                     trusted_connection=true'\n",
    "\n",
    "#Specify the query and pull into the data frame\n",
    "query = \"SELECT\n",
    "           [PatientEncounterID]\n",
    "      ,[PatientID]\n",
    "      ,[SystolicBPNBR]\n",
    "      ,[LDLNBR]\n",
    "      ,[A1CNBR]\n",
    "      ,[GenderFLG]\n",
    "      ,[ThirtyDayReadmitFLG]\n",
    "      ,[InTestWindow]\n",
    "  FROM [SAM].[dbo].[DiabetesClinicalOutpatient]\n",
    "         --WHERE InTestWindow = 'N'\" # Only grab training set for THIS example \n",
    "                                     # This means rows where predicted col isn't NULL\n",
    "\n",
    "df <- selectData(connection.string, query)"
   ]
  },
  {
   "cell_type": "markdown",
   "metadata": {},
   "source": [
    "...or load directly from .csv "
   ]
  },
  {
   "cell_type": "code",
   "execution_count": 62,
   "metadata": {
    "collapsed": false
   },
   "outputs": [],
   "source": [
    "# This line will identify our prepackaged sample data for loading.  You can delete this if using your own data.\n",
    "csvfile <- system.file(\"extdata\", \"DiabetesClinicalOutpatient.csv\", package = \"HCRTools\")\n",
    "\n",
    "df <- read.csv(file = csvfile, #<-- or path/to/yourfile.csv\n",
    "                    header = TRUE,\n",
    "                    na.strings = c('NULL', 'NA', \"\"))"
   ]
  },
  {
   "cell_type": "markdown",
   "metadata": {},
   "source": [
    "Check the data types of the dataframe to make sure factor cols aren't listed as numeric cols, etc."
   ]
  },
  {
   "cell_type": "code",
   "execution_count": 54,
   "metadata": {
    "collapsed": false
   },
   "outputs": [
    {
     "name": "stdout",
     "output_type": "stream",
     "text": [
      "'data.frame':\t1187 obs. of  8 variables:\n",
      " $ PatientEncounterID : int  1 2 3 4 5 6 7 8 9 10 ...\n",
      " $ PatientID          : int  10001 10001 10001 10002 10002 10002 10002 10003 10003 10003 ...\n",
      " $ SystolicBPNBR      : int  167 153 170 187 188 185 189 149 155 160 ...\n",
      " $ LDLNBR             : int  195 214 191 135 125 178 101 160 144 130 ...\n",
      " $ A1CNBR             : num  4.2 5 4 4.4 4.3 5 4 5 6.6 8 ...\n",
      " $ GenderFLG          : Factor w/ 2 levels \"F\",\"M\": 2 2 2 2 2 2 2 2 2 2 ...\n",
      " $ ThirtyDayReadmitFLG: Factor w/ 2 levels \"N\",\"Y\": 1 1 1 1 1 1 1 1 1 2 ...\n",
      " $ InTestWindow       : Factor w/ 2 levels \"N\",\"Y\": 1 1 1 1 1 1 1 1 1 1 ...\n"
     ]
    }
   ],
   "source": [
    "str(df)"
   ]
  },
  {
   "cell_type": "markdown",
   "metadata": {},
   "source": [
    "Change a column type, if necessary."
   ]
  },
  {
   "cell_type": "code",
   "execution_count": 55,
   "metadata": {
    "collapsed": false,
    "scrolled": true
   },
   "outputs": [
    {
     "name": "stdout",
     "output_type": "stream",
     "text": [
      "'data.frame':\t1187 obs. of  8 variables:\n",
      " $ PatientEncounterID : int  1 2 3 4 5 6 7 8 9 10 ...\n",
      " $ PatientID          : int  10001 10001 10001 10002 10002 10002 10002 10003 10003 10003 ...\n",
      " $ SystolicBPNBR      : int  167 153 170 187 188 185 189 149 155 160 ...\n",
      " $ LDLNBR             : num  195 214 191 135 125 178 101 160 144 130 ...\n",
      " $ A1CNBR             : num  4.2 5 4 4.4 4.3 5 4 5 6.6 8 ...\n",
      " $ GenderFLG          : Factor w/ 2 levels \"F\",\"M\": 2 2 2 2 2 2 2 2 2 2 ...\n",
      " $ ThirtyDayReadmitFLG: Factor w/ 2 levels \"N\",\"Y\": 1 1 1 1 1 1 1 1 1 2 ...\n",
      " $ InTestWindow       : Factor w/ 2 levels \"N\",\"Y\": 1 1 1 1 1 1 1 1 1 1 ...\n"
     ]
    }
   ],
   "source": [
    "df$GenderFLG      = as.factor(df$GenderFLG)\n",
    "df$LDLNBR     = as.numeric(df$LDLNBR) # only here for demonstration\n",
    "str(df)"
   ]
  },
  {
   "cell_type": "markdown",
   "metadata": {},
   "source": [
    "Define model parameters"
   ]
  },
  {
   "cell_type": "code",
   "execution_count": 56,
   "metadata": {
    "collapsed": false,
    "scrolled": true
   },
   "outputs": [],
   "source": [
    "set.seed(42) # <-- used to make results reproducible\n",
    "p <- SupervisedModelDevelopmentParams$new()\n",
    "p$df = df\n",
    "p$type = 'classification'\n",
    "p$impute = TRUE\n",
    "p$predictedCol = 'ThirtyDayReadmitFLG'\n",
    "p$cores = 1"
   ]
  },
  {
   "cell_type": "markdown",
   "metadata": {},
   "source": [
    "Now that we've arranged the data and done imputation, let's create a LASSO model and\n",
    "1) See how accurate it is and\n",
    "2) See which variable are important."
   ]
  },
  {
   "cell_type": "code",
   "execution_count": 57,
   "metadata": {
    "collapsed": false,
    "scrolled": true
   },
   "outputs": [
    {
     "name": "stdout",
     "output_type": "stream",
     "text": [
      "[1] \"AUC: 0.98\"\n",
      "[1] \"95% CI AUC: (0.96,1)\"\n",
      "[1] \"Grouped Lasso coefficients:\"\n",
      "       (Intercept) PatientEncounterID          PatientID      SystolicBPNBR \n",
      "      -18.61182516         0.00000000         0.00000000         0.03075978 \n",
      "            LDLNBR             A1CNBR         GenderFLGM      InTestWindowY \n",
      "        0.00000000         1.67617426         0.00000000         0.00000000 \n",
      "[1] \"Variables with non-zero coefficients: SystolicBPNBR, A1CNBR\"\n"
     ]
    }
   ],
   "source": [
    "# Run Lasso\n",
    "Lasso <- LassoDevelopment$new(p)\n",
    "Lasso$run()"
   ]
  },
  {
   "cell_type": "markdown",
   "metadata": {},
   "source": [
    "The AUC is around 0.98, which is probably higher than you would get with real data. Note that GenderFLGM and LDLNBR aren't helpful at all, so the final model (if logistic is chosen) can leave it out of the query. (See Example 2 for more.)"
   ]
  },
  {
   "cell_type": "markdown",
   "metadata": {},
   "source": [
    "Now let's see if we can improve on that by testing a random forest model."
   ]
  },
  {
   "cell_type": "code",
   "execution_count": 59,
   "metadata": {
    "collapsed": false,
    "scrolled": true
   },
   "outputs": [
    {
     "name": "stdout",
     "output_type": "stream",
     "text": [
      "[1] \"AUC: 1\"\n",
      "[1] \"95% CI AUC: (1,1)\"\n",
      "ranger variable importance\n",
      "\n",
      "                   Overall\n",
      "A1CNBR             100.000\n",
      "SystolicBPNBR       66.858\n",
      "PatientEncounterID  20.200\n",
      "PatientID           16.939\n",
      "LDLNBR              13.207\n",
      "GenderFLG            1.716\n",
      "InTestWindow         0.000\n"
     ]
    }
   ],
   "source": [
    "# Run Random Forest\n",
    "rf <- RandomForestDevelopment$new(p)\n",
    "rf$run()"
   ]
  },
  {
   "cell_type": "markdown",
   "metadata": {},
   "source": [
    "Oh, interesting--AUC for random forest is even worse than that for logistic. Note that AUC dropped to 0.41 and Kappa is negative."
   ]
  },
  {
   "cell_type": "markdown",
   "metadata": {},
   "source": [
    "If the models based on your data are better and you want to set up a model that will 1) predict things that haven't happened yet and 2) move values to SQL Server, see example 2 (linked from the products portal)."
   ]
  },
  {
   "cell_type": "markdown",
   "metadata": {},
   "source": [
    "Reach out to Levi Thatcher (levi.thatcher@healthcatalyst.com) if you have any questions!"
   ]
  }
 ],
 "metadata": {
  "anaconda-cloud": {},
  "kernelspec": {
   "display_name": "R",
   "language": "R",
   "name": "ir"
  },
  "language_info": {
   "codemirror_mode": "r",
   "file_extension": ".r",
   "mimetype": "text/x-r-source",
   "name": "R",
   "pygments_lexer": "r",
   "version": "3.3.1"
  }
 },
 "nbformat": 4,
 "nbformat_minor": 0
}
