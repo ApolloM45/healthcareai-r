{
 "cells": [
  {
   "cell_type": "markdown",
   "metadata": {},
   "source": [
    "While in example #1 we compare two models based on our data, in this step we will choose the better model, create predictions, and insert these predictions into SQL Server"
   ]
  },
  {
   "cell_type": "markdown",
   "metadata": {},
   "source": [
    "Note: while we created and checked models in step #1, we automatically held out some of the data from your query in a test set (to see how accurate our models were). Know that we have a sense for model accuracy, in this step, we re-create the best model on your ENTIRE data set, and then use it to create predictions."
   ]
  },
  {
   "cell_type": "markdown",
   "metadata": {},
   "source": [
    "If you have SQL Server on your machine and HCRTools installed, there's just one more prerequisite: an entity to receive the predictions. Call it what you may, but it should have these cols:"
   ]
  },
  {
   "cell_type": "code",
   "execution_count": 1,
   "metadata": {
    "collapsed": true
   },
   "outputs": [],
   "source": [
    "#CREATE TABLE [SAM].[dbo].[HCRDeployBASE](      --If possible, create using SAMD\n",
    "#[BindingID] [int] NOT NULL,\n",
    "#[BindingNM] [varchar](255) NOT NULL,\n",
    "#[LastLoadDTS] [datetime2](7) NOT NULL,\n",
    "#[GrainID] [decimal](38, 0) NOT NULL,          --Make this col name same as in input table\n",
    "#[PredictedProbNBR] [decimal](38, 2) NOT NULL, --Change to PredictedValueNBR for regression\n",
    "#[Factor1TXT] [varchar](255) NULL,\n",
    "#[Factor2TXT] [varchar](255) NULL,\n",
    "#[Factor3TXT] [varchar](255) NULL\n",
    "#)"
   ]
  },
  {
   "cell_type": "markdown",
   "metadata": {},
   "source": [
    "Now on to the code!  First, load the package and define SQL server connection string for reading in data and writing predictions "
   ]
  },
  {
   "cell_type": "code",
   "execution_count": 12,
   "metadata": {
    "collapsed": false
   },
   "outputs": [],
   "source": [
    "library(HCRTools)"
   ]
  },
  {
   "cell_type": "code",
   "execution_count": 13,
   "metadata": {
    "collapsed": false
   },
   "outputs": [],
   "source": [
    "connection.string = 'driver={SQL Server};\n",
    "                     server=localhost;\n",
    "                     trusted_connection=true'"
   ]
  },
  {
   "cell_type": "markdown",
   "metadata": {},
   "source": [
    "Now read in data, either from SQL server or .csv. By default we will use the prepackaged .csv, but feel free to uncomment out the lines below to use SQL instead:"
   ]
  },
  {
   "cell_type": "code",
   "execution_count": 14,
   "metadata": {
    "collapsed": true
   },
   "outputs": [],
   "source": [
    "# #From SQL Server\n",
    "# #Specify the query and pull into the data frame\n",
    "# query = \"SELECT\n",
    "#            [PatientEncounterID]\n",
    "#       ,[PatientID]\n",
    "#       ,[SystolicBPNBR]\n",
    "#       ,[LDLNBR]\n",
    "#       ,[A1CNBR]\n",
    "#       ,[GenderFLG]\n",
    "#       ,[ThirtyDayReadmitFLG]\n",
    "#       ,[InTestWindow]\n",
    "#   FROM [SAM].[dbo].[DiabetesClinicalOutpatient]\n",
    "#          --WHERE InTestWindow = 'N'\" # Only grab training set for THIS example \n",
    "#                                      # This means rows where predicted col isn't NULL\n",
    "\n",
    "# df <- selectData(connection.string, query)"
   ]
  },
  {
   "cell_type": "code",
   "execution_count": 15,
   "metadata": {
    "collapsed": false
   },
   "outputs": [],
   "source": [
    "#From CSV\n",
    "\n",
    "# This line will identify our prepackaged sample data for loading.  You can delete this if using your own data.\n",
    "csvfile <- system.file(\"extdata\", \"DiabetesClinicalOutpatient.csv\", package = \"HCRTools\")\n",
    "\n",
    "df <- read.csv(file = csvfile, #<-- or path/to/yourfile.csv\n",
    "                    header = TRUE,\n",
    "                    na.strings = c('NULL', 'NA', \"\"))"
   ]
  },
  {
   "cell_type": "markdown",
   "metadata": {},
   "source": [
    "Check the data types of the dataframe to make sure factor cols aren’t listed as numeric cols, etc."
   ]
  },
  {
   "cell_type": "code",
   "execution_count": 16,
   "metadata": {
    "collapsed": false
   },
   "outputs": [
    {
     "name": "stdout",
     "output_type": "stream",
     "text": [
      "'data.frame':\t1187 obs. of  8 variables:\n",
      " $ PatientEncounterID : int  1 2 3 4 5 6 7 8 9 10 ...\n",
      " $ PatientID          : int  10001 10001 10001 10002 10002 10002 10002 10003 10003 10003 ...\n",
      " $ SystolicBPNBR      : int  167 153 170 187 188 185 189 149 155 160 ...\n",
      " $ LDLNBR             : int  195 214 191 135 125 178 101 160 144 130 ...\n",
      " $ A1CNBR             : num  4.2 5 4 4.4 4.3 5 4 5 6.6 8 ...\n",
      " $ GenderFLG          : Factor w/ 2 levels \"F\",\"M\": 2 2 2 2 2 2 2 2 2 2 ...\n",
      " $ ThirtyDayReadmitFLG: Factor w/ 2 levels \"N\",\"Y\": 1 1 1 1 1 1 1 1 1 2 ...\n",
      " $ InTestWindow       : Factor w/ 2 levels \"N\",\"Y\": 1 1 1 1 1 1 1 1 1 1 ...\n"
     ]
    }
   ],
   "source": [
    "str(df)"
   ]
  },
  {
   "cell_type": "markdown",
   "metadata": {},
   "source": [
    "Change a column type, if necessary"
   ]
  },
  {
   "cell_type": "code",
   "execution_count": 17,
   "metadata": {
    "collapsed": false
   },
   "outputs": [
    {
     "name": "stdout",
     "output_type": "stream",
     "text": [
      "'data.frame':\t1187 obs. of  8 variables:\n",
      " $ PatientEncounterID : int  1 2 3 4 5 6 7 8 9 10 ...\n",
      " $ PatientID          : int  10001 10001 10001 10002 10002 10002 10002 10003 10003 10003 ...\n",
      " $ SystolicBPNBR      : int  167 153 170 187 188 185 189 149 155 160 ...\n",
      " $ LDLNBR             : num  195 214 191 135 125 178 101 160 144 130 ...\n",
      " $ A1CNBR             : num  4.2 5 4 4.4 4.3 5 4 5 6.6 8 ...\n",
      " $ GenderFLG          : Factor w/ 2 levels \"F\",\"M\": 2 2 2 2 2 2 2 2 2 2 ...\n",
      " $ ThirtyDayReadmitFLG: Factor w/ 2 levels \"N\",\"Y\": 1 1 1 1 1 1 1 1 1 2 ...\n",
      " $ InTestWindow       : Factor w/ 2 levels \"N\",\"Y\": 1 1 1 1 1 1 1 1 1 1 ...\n"
     ]
    }
   ],
   "source": [
    "df$GenderFLG      = as.factor(df$GenderFLG)\n",
    "df$LDLNBR     = as.numeric(df$LDLNBR) # only here for demonstration\n",
    "str(df)"
   ]
  },
  {
   "cell_type": "markdown",
   "metadata": {},
   "source": [
    "Note that in Example #1 we found the random forest model to work best, so let's use it to create predictions. This step will do that and push the results to SQL Server (note you choose the destination entity here)."
   ]
  },
  {
   "cell_type": "markdown",
   "metadata": {},
   "source": [
    "Define Model Parameters"
   ]
  },
  {
   "cell_type": "code",
   "execution_count": 19,
   "metadata": {
    "collapsed": false,
    "scrolled": true
   },
   "outputs": [],
   "source": [
    "set.seed(42) # <-- used to make results reproducible\n",
    "p <- SupervisedModelDeploymentParams$new()\n",
    "p$df = df\n",
    "p$type = 'classification'\n",
    "p$impute = TRUE\n",
    "p$predictedCol = 'ThirtyDayReadmitFLG'\n",
    "p$cores = 1\n",
    "p$sqlConn = connection.string\n",
    "p$destSchemaTable = 'dbo.HCRDeployClassificationBASE'"
   ]
  },
  {
   "cell_type": "code",
   "execution_count": 11,
   "metadata": {
    "collapsed": false
   },
   "outputs": [
    {
     "ename": "ERROR",
     "evalue": "Error in eval(expr, envir, enclos): object 'o' not found\n",
     "output_type": "error",
     "traceback": [
      "Error in eval(expr, envir, enclos): object 'o' not found\nTraceback:\n"
     ]
    }
   ],
   "source": [
    "o$deploy(model = 'logit',  # Change to 'rf' for random forest\n",
    "         cores = 1,\n",
    "         sqlcnxn = connection.string,\n",
    "         debug = FALSE,    # Change this to TRUE to debug\n",
    "         # Note: Do not use [ or ] in output table\n",
    "         dest.schema.table = 'dbo.HCRPredictionBASE')"
   ]
  },
  {
   "cell_type": "markdown",
   "metadata": {},
   "source": [
    "That's it! Your choice of model has been trained on your entire dataset, your predictions have been made, and your results now sit in SQL Server. Remember that to see the docs you can always type this in the console: "
   ]
  },
  {
   "cell_type": "code",
   "execution_count": 101,
   "metadata": {
    "collapsed": false
   },
   "outputs": [],
   "source": [
    "library(HCRTools)\n",
    "?HCRTools"
   ]
  },
  {
   "cell_type": "markdown",
   "metadata": {},
   "source": [
    "Feel reach out to Levi Thatcher (levi.thatcher@healthcatalyst.com) with any questions or suggestions!"
   ]
  }
 ],
 "metadata": {
  "anaconda-cloud": {},
  "kernelspec": {
   "display_name": "R",
   "language": "R",
   "name": "ir"
  },
  "language_info": {
   "codemirror_mode": "r",
   "file_extension": ".r",
   "mimetype": "text/x-r-source",
   "name": "R",
   "pygments_lexer": "r",
   "version": "3.3.1"
  }
 },
 "nbformat": 4,
 "nbformat_minor": 0
}
