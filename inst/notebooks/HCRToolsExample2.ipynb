{
 "cells": [
  {
   "cell_type": "markdown",
   "metadata": {},
   "source": [
    "While in example #1 we compare two models based on our data, in this step we will choose the better model, create predictions, and insert these predictions into SQL Server"
   ]
  },
  {
   "cell_type": "markdown",
   "metadata": {},
   "source": [
    "Note: while we created and checked models in step #1, we automatically held out some of the data from your query in a test set (to see how accurate our models were). Know that we have a sense for model accuracy, in this step, we re-create the best model on your ENTIRE data set, and then use it to create predictions."
   ]
  },
  {
   "cell_type": "markdown",
   "metadata": {},
   "source": [
    "If you have SQL Server on your machine and HCRTools installed, there's just one more prerequisite: an entity to receive the predictions. Call it what you may, but it should have these cols:"
   ]
  },
  {
   "cell_type": "code",
   "execution_count": 94,
   "metadata": {
    "collapsed": true
   },
   "outputs": [],
   "source": [
    "#CREATE TABLE [SAM].[dbo].[HCRDeployBASE](      --If possible, create using SAMD\n",
    "#[BindingID] [int] NOT NULL,\n",
    "#[BindingNM] [varchar](255) NOT NULL,\n",
    "#[LastLoadDTS] [datetime2](7) NOT NULL,\n",
    "#[GrainID] [decimal](38, 0) NOT NULL,          --Make this col name same as in input table\n",
    "#[PredictedProbNBR] [decimal](38, 2) NOT NULL, --Change to PredictedValueNBR for regression\n",
    "#[Factor1TXT] [varchar](255) NULL,\n",
    "#[Factor2TXT] [varchar](255) NULL,\n",
    "#[Factor3TXT] [varchar](255) NULL\n",
    "#)"
   ]
  },
  {
   "cell_type": "markdown",
   "metadata": {},
   "source": [
    "Now on to the code! First, load the package and create a connection to SQL Server."
   ]
  },
  {
   "cell_type": "code",
   "execution_count": 95,
   "metadata": {
    "collapsed": false
   },
   "outputs": [],
   "source": [
    "library(HCRTools)\n",
    "\n",
    "connection.string <- 'driver={SQL Server};\n",
    "                      server=localhost;\n",
    "                      database=SAM;\n",
    "                      trusted_connection=true'"
   ]
  },
  {
   "cell_type": "markdown",
   "metadata": {},
   "source": [
    "Let's bring in the data."
   ]
  },
  {
   "cell_type": "code",
   "execution_count": 96,
   "metadata": {
    "collapsed": true
   },
   "outputs": [],
   "source": [
    "query <- \"SELECT \n",
    "      [GrainID]\n",
    "      ,[MaritalStatus]\n",
    "      ,[Gender]\n",
    "      ,[SalariedFlag]\n",
    "      ,[SickLeaveHours]\n",
    "      ,[InTestWindow]   --Note this col should be Y/N\n",
    "  FROM [SAM].[dbo].[HREmployeeDeploy]\"\n",
    "df <- SelectData(connection.string, query)"
   ]
  },
  {
   "cell_type": "markdown",
   "metadata": {},
   "source": [
    "Check the data types of the dataframe to make sure factor cols aren’t listed as numeric cols, etc."
   ]
  },
  {
   "cell_type": "code",
   "execution_count": 97,
   "metadata": {
    "collapsed": false
   },
   "outputs": [
    {
     "name": "stdout",
     "output_type": "stream",
     "text": [
      "'data.frame':\t290 obs. of  6 variables:\n",
      " $ GrainID       : int  10001 10002 10003 10004 10005 10006 10007 10008 10009 10010 ...\n",
      " $ MaritalStatus : Factor w/ 2 levels \"M\",\"S\": 2 2 NA 2 1 1 1 2 1 1 ...\n",
      " $ Gender        : Factor w/ 2 levels \"F\",\"M\": 2 1 2 2 1 2 2 1 1 2 ...\n",
      " $ SalariedFlag  : Factor w/ 2 levels \"N\",\"Y\": 2 2 NA 1 2 2 2 2 NA 2 ...\n",
      " $ SickLeaveHours: int  69 NA 21 NA 22 23 50 51 51 64 ...\n",
      " $ InTestWindow  : Factor w/ 2 levels \"N\",\"Y\": 2 2 2 2 2 2 2 2 2 2 ...\n"
     ]
    }
   ],
   "source": [
    "str(df)"
   ]
  },
  {
   "cell_type": "markdown",
   "metadata": {},
   "source": [
    "Change a column type, if necessary"
   ]
  },
  {
   "cell_type": "code",
   "execution_count": 98,
   "metadata": {
    "collapsed": false
   },
   "outputs": [
    {
     "name": "stdout",
     "output_type": "stream",
     "text": [
      "'data.frame':\t290 obs. of  6 variables:\n",
      " $ GrainID       : int  10001 10002 10003 10004 10005 10006 10007 10008 10009 10010 ...\n",
      " $ MaritalStatus : Factor w/ 2 levels \"M\",\"S\": 2 2 NA 2 1 1 1 2 1 1 ...\n",
      " $ Gender        : Factor w/ 2 levels \"F\",\"M\": 2 1 2 2 1 2 2 1 1 2 ...\n",
      " $ SalariedFlag  : Factor w/ 2 levels \"N\",\"Y\": 2 2 NA 1 2 2 2 2 NA 2 ...\n",
      " $ SickLeaveHours: num  69 NA 21 NA 22 23 50 51 51 64 ...\n",
      " $ InTestWindow  : Factor w/ 2 levels \"N\",\"Y\": 2 2 2 2 2 2 2 2 2 2 ...\n"
     ]
    }
   ],
   "source": [
    "df$SalariedFlag = as.factor(df$SalariedFlag)    # only here for demonstration\n",
    "df$SickLeaveHours = as.numeric(df$SickLeaveHours) # only here for demonstration\n",
    "str(df)"
   ]
  },
  {
   "cell_type": "markdown",
   "metadata": {},
   "source": [
    "Do pre-processing and create object with data split into train and test sets."
   ]
  },
  {
   "cell_type": "code",
   "execution_count": 99,
   "metadata": {
    "collapsed": false,
    "scrolled": true
   },
   "outputs": [],
   "source": [
    "o <- DeploySupervisedModel$new(type = 'classification',\n",
    "                               df = df,\n",
    "                               grain.col = 'GrainID',\n",
    "                               window.col = 'InTestWindow',\n",
    "                               predicted.col = 'Gender',\n",
    "                               impute = TRUE,\n",
    "                               debug = FALSE,\n",
    "                               use.saved.model = FALSE)"
   ]
  },
  {
   "cell_type": "markdown",
   "metadata": {},
   "source": [
    "Note that in Example #1 we found the logistic model to work best, so let's use it to create predictions. This step will do that and push the results to SQL Server (note you choose the destination entity here)."
   ]
  },
  {
   "cell_type": "code",
   "execution_count": 100,
   "metadata": {
    "collapsed": false
   },
   "outputs": [
    {
     "name": "stdout",
     "output_type": "stream",
     "text": [
      "[1] \"Details for proability model:\"\n",
      "\n",
      "Call:  glm(formula = as.formula(paste(self$predicted.col, \".\", sep = \" ~ \")), \n",
      "    family = binomial(link = \"logit\"), data = self$dfTrain, control = list(maxit = 10000), \n",
      "    metric = \"ROC\", trControl = trainControl(classProbs = TRUE, \n",
      "        summaryFunction = twoClassSummary))\n",
      "\n",
      "Coefficients:\n",
      "    (Intercept)  MaritalStatus.S   SalariedFlag.Y   SickLeaveHours  \n",
      "        1.64261          0.34380         -0.93506         -0.01441  \n",
      "\n",
      "Degrees of Freedom: 252 Total (i.e. Null);  249 Residual\n",
      "Null Deviance:\t    296.5 \n",
      "Residual Deviance: 287.7 \tAIC: 295.7\n",
      "[1] \"Probability predictions are based on logistic\"\n",
      "[1] \"SQL Server insert was successful\"\n"
     ]
    }
   ],
   "source": [
    "o$deploy(model = 'logit',  # Change to 'rf' for random forest\n",
    "         cores = 1,\n",
    "         sqlcnxn = connection.string,\n",
    "         debug = FALSE,    # Change this to TRUE to debug\n",
    "         # Note: Do not use [ or ] in output table\n",
    "         dest.schema.table = 'dbo.HCRPredictionBASE')"
   ]
  },
  {
   "cell_type": "markdown",
   "metadata": {},
   "source": [
    "That's it! Your choice of model has been trained on your entire dataset, your predictions have been made, and your results now sit in SQL Server. Remember that to see the docs you can always type this in the console: "
   ]
  },
  {
   "cell_type": "code",
   "execution_count": 101,
   "metadata": {
    "collapsed": false
   },
   "outputs": [],
   "source": [
    "library(HCRTools)\n",
    "?HCRTools"
   ]
  },
  {
   "cell_type": "markdown",
   "metadata": {},
   "source": [
    "Feel reach out to Levi Thatcher (levi.thatcher@healthcatalyst.com) with any questions or suggestions!"
   ]
  }
 ],
 "metadata": {
  "kernelspec": {
   "display_name": "R",
   "language": "R",
   "name": "ir"
  },
  "language_info": {
   "codemirror_mode": "r",
   "file_extension": ".r",
   "mimetype": "text/x-r-source",
   "name": "R",
   "pygments_lexer": "r",
   "version": "3.2.4"
  }
 },
 "nbformat": 4,
 "nbformat_minor": 0
}
